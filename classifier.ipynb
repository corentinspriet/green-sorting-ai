{
 "cells": [
  {
   "cell_type": "code",
   "execution_count": 6,
   "id": "792d9cb2-22b1-4cb5-9132-1df578d8f409",
   "metadata": {},
   "outputs": [],
   "source": [
    "!pip install transformers datasets torch scikit-learn --quiet"
   ]
  },
  {
   "cell_type": "code",
   "execution_count": 7,
   "id": "66199395-3908-4388-b92c-1c40e5626de3",
   "metadata": {},
   "outputs": [],
   "source": [
    "!pip install accelerate --quiet"
   ]
  },
  {
   "cell_type": "code",
   "execution_count": 19,
   "id": "927c0d8f-7378-46ef-993f-8c3f882e4bd9",
   "metadata": {},
   "outputs": [
    {
     "name": "stdout",
     "output_type": "stream",
     "text": [
      "label\n",
      "plastique         170\n",
      "verre             166\n",
      "métal             166\n",
      "papier_carton     166\n",
      "compost           166\n",
      "non-recyclable    166\n",
      "Name: count, dtype: int64\n"
     ]
    }
   ],
   "source": [
    "import json\n",
    "import pandas as pd\n",
    "from sklearn.model_selection import train_test_split\n",
    "\n",
    "# Charger les données\n",
    "with open(\"data/dechets_1000.json\", \"r\", encoding=\"utf-8\") as f:\n",
    "    data = json.load(f)\n",
    "\n",
    "df = pd.DataFrame(data)\n",
    "\n",
    "# Nettoyage & regroupement\n",
    "import unicodedata\n",
    "\n",
    "def nettoyer(texte):\n",
    "    texte = texte.lower()\n",
    "    texte = ''.join(c for c in unicodedata.normalize('NFD', texte) if unicodedata.category(c) != 'Mn')\n",
    "    return texte\n",
    "\n",
    "def regrouper(label):\n",
    "    if label in [\"papier\", \"carton\"]:\n",
    "        return \"papier_carton\"\n",
    "    elif label in [\"textile\", \"électronique\"]:\n",
    "        return \"autres\"\n",
    "    else:\n",
    "        return label\n",
    "\n",
    "df[\"description\"] = df[\"description\"].apply(nettoyer)\n",
    "df[\"label\"] = df[\"label\"].apply(regrouper)\n",
    "\n",
    "# Vérif\n",
    "print(df[\"label\"].value_counts())\n",
    "\n",
    "# Split\n",
    "train_texts, val_texts, train_labels, val_labels = train_test_split(df[\"description\"], df[\"label\"], test_size=0.2, stratify=df[\"label\"], random_state=42)\n"
   ]
  },
  {
   "cell_type": "code",
   "execution_count": 20,
   "id": "fd1919f4-37e7-4823-81bd-2eb197ae3632",
   "metadata": {},
   "outputs": [],
   "source": [
    "from transformers import BertTokenizer\n",
    "\n",
    "tokenizer = BertTokenizer.from_pretrained(\"bert-base-multilingual-cased\")\n",
    "\n",
    "# Tokeniser les textes\n",
    "train_encodings = tokenizer(list(train_texts), truncation=True, padding=True)\n",
    "val_encodings = tokenizer(list(val_texts), truncation=True, padding=True)\n",
    "\n",
    "# Encoder les labels\n",
    "from sklearn.preprocessing import LabelEncoder\n",
    "\n",
    "le = LabelEncoder()\n",
    "train_labels_enc = le.fit_transform(train_labels)\n",
    "val_labels_enc = le.transform(val_labels)\n",
    "\n",
    "# Dataset Torch\n",
    "import torch\n",
    "\n",
    "class DechetDataset(torch.utils.data.Dataset):\n",
    "    def __init__(self, encodings, labels):\n",
    "        self.encodings = encodings\n",
    "        self.labels = labels\n",
    "    def __getitem__(self, idx):\n",
    "        item = {key: torch.tensor(val[idx]) for key, val in self.encodings.items()}\n",
    "        item[\"labels\"] = torch.tensor(self.labels[idx], dtype=torch.long)\n",
    "        return item\n",
    "    def __len__(self):\n",
    "        return len(self.labels)\n",
    "\n",
    "train_dataset = DechetDataset(train_encodings, train_labels_enc)\n",
    "val_dataset = DechetDataset(val_encodings, val_labels_enc)\n"
   ]
  },
  {
   "cell_type": "code",
   "execution_count": 21,
   "id": "2d26d7d6-954b-4c81-911e-e8896ac32b36",
   "metadata": {},
   "outputs": [
    {
     "name": "stderr",
     "output_type": "stream",
     "text": [
      "Some weights of BertForSequenceClassification were not initialized from the model checkpoint at bert-base-multilingual-cased and are newly initialized: ['classifier.bias', 'classifier.weight']\n",
      "You should probably TRAIN this model on a down-stream task to be able to use it for predictions and inference.\n"
     ]
    },
    {
     "data": {
      "text/html": [
       "\n",
       "    <div>\n",
       "      \n",
       "      <progress value='600' max='600' style='width:300px; height:20px; vertical-align: middle;'></progress>\n",
       "      [600/600 1:11:13, Epoch 3/3]\n",
       "    </div>\n",
       "    <table border=\"1\" class=\"dataframe\">\n",
       "  <thead>\n",
       " <tr style=\"text-align: left;\">\n",
       "      <th>Epoch</th>\n",
       "      <th>Training Loss</th>\n",
       "      <th>Validation Loss</th>\n",
       "    </tr>\n",
       "  </thead>\n",
       "  <tbody>\n",
       "    <tr>\n",
       "      <td>1</td>\n",
       "      <td>1.600400</td>\n",
       "      <td>0.876003</td>\n",
       "    </tr>\n",
       "    <tr>\n",
       "      <td>2</td>\n",
       "      <td>0.555900</td>\n",
       "      <td>0.434258</td>\n",
       "    </tr>\n",
       "    <tr>\n",
       "      <td>3</td>\n",
       "      <td>0.257900</td>\n",
       "      <td>0.111775</td>\n",
       "    </tr>\n",
       "  </tbody>\n",
       "</table><p>"
      ],
      "text/plain": [
       "<IPython.core.display.HTML object>"
      ]
     },
     "metadata": {},
     "output_type": "display_data"
    },
    {
     "data": {
      "text/plain": [
       "TrainOutput(global_step=600, training_loss=0.8047530492146809, metrics={'train_runtime': 4285.5454, 'train_samples_per_second': 0.56, 'train_steps_per_second': 0.14, 'total_flos': 16033905763200.0, 'train_loss': 0.8047530492146809, 'epoch': 3.0})"
      ]
     },
     "execution_count": 21,
     "metadata": {},
     "output_type": "execute_result"
    }
   ],
   "source": [
    "from transformers import BertForSequenceClassification, Trainer, TrainingArguments\n",
    "\n",
    "num_labels = len(le.classes_)\n",
    "model = BertForSequenceClassification.from_pretrained(\"bert-base-multilingual-cased\", num_labels=num_labels)\n",
    "\n",
    "training_args = TrainingArguments(\n",
    "    output_dir=\"./results\",\n",
    "    num_train_epochs=3,\n",
    "    per_device_train_batch_size=4,\n",
    "    per_device_eval_batch_size=8,\n",
    "    eval_strategy=\"epoch\",\n",
    "    logging_strategy=\"epoch\",\n",
    "    save_strategy=\"no\",\n",
    "    load_best_model_at_end=False,\n",
    "    logging_dir=\"./logs\",\n",
    ")\n",
    "\n",
    "trainer = Trainer(\n",
    "    model=model,\n",
    "    args=training_args,\n",
    "    train_dataset=train_dataset,\n",
    "    eval_dataset=val_dataset\n",
    ")\n",
    "\n",
    "trainer.train()\n"
   ]
  },
  {
   "cell_type": "code",
   "execution_count": 22,
   "id": "86449980-2e51-4baf-8c6d-e5e70d2ff12e",
   "metadata": {},
   "outputs": [
    {
     "data": {
      "text/html": [],
      "text/plain": [
       "<IPython.core.display.HTML object>"
      ]
     },
     "metadata": {},
     "output_type": "display_data"
    },
    {
     "name": "stdout",
     "output_type": "stream",
     "text": [
      "                precision    recall  f1-score   support\n",
      "\n",
      "       compost       1.00      1.00      1.00        33\n",
      "         métal       1.00      1.00      1.00        33\n",
      "non-recyclable       1.00      1.00      1.00        33\n",
      " papier_carton       1.00      1.00      1.00        34\n",
      "     plastique       0.87      1.00      0.93        34\n",
      "         verre       1.00      0.85      0.92        33\n",
      "\n",
      "      accuracy                           0.97       200\n",
      "     macro avg       0.98      0.97      0.97       200\n",
      "  weighted avg       0.98      0.97      0.97       200\n",
      "\n"
     ]
    }
   ],
   "source": [
    "preds = trainer.predict(val_dataset)\n",
    "pred_labels = preds.predictions.argmax(axis=-1)\n",
    "\n",
    "from sklearn.metrics import classification_report\n",
    "print(classification_report(val_labels_enc, pred_labels, target_names=le.classes_))\n",
    "\n"
   ]
  }
 ],
 "metadata": {
  "kernelspec": {
   "display_name": "Python 3 (ipykernel)",
   "language": "python",
   "name": "python3"
  },
  "language_info": {
   "codemirror_mode": {
    "name": "ipython",
    "version": 3
   },
   "file_extension": ".py",
   "mimetype": "text/x-python",
   "name": "python",
   "nbconvert_exporter": "python",
   "pygments_lexer": "ipython3",
   "version": "3.8.10"
  }
 },
 "nbformat": 4,
 "nbformat_minor": 5
}
